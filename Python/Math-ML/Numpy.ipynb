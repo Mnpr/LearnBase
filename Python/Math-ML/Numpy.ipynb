{
 "cells": [
  {
   "cell_type": "markdown",
   "metadata": {},
   "source": [
    "# Numpy\n",
    "\n",
    "- Homogenous Multi-dimensional Array\n",
    "- indexed by a tuple of non-negative integers.\n",
    "- Dimensiona : axes\n",
    "- Numpy array : ndarray $&$ numpy.array $\\ne$ array.array (SPLclass)"
   ]
  },
  {
   "cell_type": "code",
   "execution_count": 2,
   "metadata": {},
   "outputs": [],
   "source": [
    "import numpy as np\n",
    "\n",
    "# Info( Docstring ) Constructor ( Uncomment the following line )\n",
    "# ?np.array"
   ]
  },
  {
   "cell_type": "markdown",
   "metadata": {},
   "source": [
    "## N-d array Object\n",
    "\n",
    "- Every item in an ndarray takes the same size of block in the memory. Each element in ndarray is an object of data-type object (called dtype).\n",
    "- Any item extracted from ndarray object (by slicing) is represented by a Python object of one of array scalar types.\n",
    "\n",
    "![](./assets/ndarray.jpg)\n",
    "\n",
    "**Important attributes**\n",
    "\n",
    "- *ndarray.ndim :* Number of axes.\n",
    "- *ndarray.shape:* Integer Tuple with size of array in each Dimension.\n",
    "- *ndarray.size:* Total number of elements in the array\n",
    "- *ndarray.dtype:* An object descritbing the types of elements of the array\n",
    "- *ndarray.itemsize:* The size in bytes of each element of the array.\n",
    "- *ndarray.data*"
   ]
  },
  {
   "cell_type": "code",
   "execution_count": 3,
   "metadata": {},
   "outputs": [
    {
     "name": "stdout",
     "output_type": "stream",
     "text": [
      "Matrix :\n",
      " [[[ 0  1  2  3  4]\n",
      "  [ 5  6  7  8  9]\n",
      "  [10 11 12 13 14]]\n",
      "\n",
      " [[15 16 17 18 19]\n",
      "  [20 21 22 23 24]\n",
      "  [25 26 27 28 29]]]\n",
      "\n",
      "Shape : (2, 3, 5)\n",
      "\n",
      "Size : 30\n",
      "\n",
      "No. of Dim. : 3\n",
      "\n",
      "Dtype : int64\n",
      "\n",
      "ItemSize : 8\n",
      "\n",
      "Memory Loc.: <memory at 0x7ff3b8490c50>\n"
     ]
    }
   ],
   "source": [
    "_matrix = np.arange(30).reshape(2,3,5)\n",
    "\n",
    "print('Matrix :\\n', _matrix)\n",
    "print('\\nShape :', _matrix.shape)\n",
    "print('\\nSize :', _matrix.size)\n",
    "print('\\nNo. of Dim. :', _matrix.ndim)\n",
    "print('\\nDtype :', _matrix.dtype.name)\n",
    "print('\\nItemSize :', _matrix.itemsize)\n",
    "print('\\nMemory Loc.:', _matrix.data)"
   ]
  },
  {
   "cell_type": "code",
   "execution_count": 4,
   "metadata": {},
   "outputs": [
    {
     "name": "stdout",
     "output_type": "stream",
     "text": [
      "Dimension : 1\n",
      "Shape : (5,)\n",
      "Size : 5\n",
      "---------\n",
      "[1 2 3 4 5]\n"
     ]
    }
   ],
   "source": [
    "# Creating 1D Numpy Array\n",
    "\n",
    "a = np.array([1,2,3,4,5])\n",
    "\n",
    "def print_matrix_info(x):\n",
    "    print('Dimension :', x.ndim)\n",
    "    print('Shape :', x.shape)    #Tuple\n",
    "    print('Size :', x.size)\n",
    "    print('---------')\n",
    "    return x\n",
    "    \n",
    "print(print_matrix_info(a))"
   ]
  },
  {
   "cell_type": "code",
   "execution_count": 5,
   "metadata": {},
   "outputs": [
    {
     "name": "stdout",
     "output_type": "stream",
     "text": [
      "Dimension : 2\n",
      "Shape : (3, 2)\n",
      "Size : 6\n",
      "---------\n",
      "[[1 2]\n",
      " [3 4]\n",
      " [5 6]]\n",
      "\n",
      "------------- Col ---------------\n",
      "Dimension : 1\n",
      "Shape : (3,)\n",
      "Size : 3\n",
      "---------\n",
      "[1 3 5]\n",
      "\n",
      "------- 2D Col. Vector ----------\n",
      "Dimension : 2\n",
      "Shape : (3, 1)\n",
      "Size : 3\n",
      "---------\n",
      "[[1]\n",
      " [3]\n",
      " [5]]\n"
     ]
    }
   ],
   "source": [
    "# Creating 2D Numpy Array\n",
    "\n",
    "A = np.array([[1,2],[3,4],[5,6]])\n",
    "\n",
    "print(print_matrix_info(A))\n",
    "\n",
    "\n",
    "# Selecting Row or Column of 2D NPA\n",
    "\n",
    "col = A[:,0]\n",
    "\n",
    "column_as_2d_vector = col.reshape(3,1)\n",
    "\n",
    "print('\\n------------- Col ---------------')\n",
    "print(print_matrix_info(col))\n",
    "\n",
    "print('\\n------- 2D Col. Vector ----------')\n",
    "print(print_matrix_info(column_as_2d_vector))"
   ]
  },
  {
   "cell_type": "code",
   "execution_count": 16,
   "metadata": {},
   "outputs": [
    {
     "name": "stdout",
     "output_type": "stream",
     "text": [
      "rank_2_array:\n",
      " [[ 1  2  3  4  5]\n",
      " [ 6  7  8  9 10]]\n",
      "Shape: (2, 5)\n",
      "Number of rows: 2\n",
      "Number of columns: 5\n"
     ]
    }
   ],
   "source": [
    "rank_2_array = np.array([\n",
    "    [1, 2, 3, 4, 5],   # first row\n",
    "    [6, 7, 8, 9, 10]   # second row\n",
    "])\n",
    "\n",
    "print('rank_2_array:\\n', rank_2_array)\n",
    "print('Shape:', rank_2_array.shape)\n",
    "print('Number of rows:', rank_2_array.shape[0])  # Shape of first axis\n",
    "print('Number of columns:', rank_2_array.shape[1])  # Shape of second axis"
   ]
  },
  {
   "cell_type": "markdown",
   "metadata": {},
   "source": [
    "## Data Types\n",
    "\n",
    "`numpy.dtype(object, align, copy)`\n",
    "\n",
    "### Built-in Types with Character code\n",
    "\n",
    "    'b' − boolean\n",
    "\n",
    "    'i' − (signed) integer\n",
    "\n",
    "    'u' − unsigned integer\n",
    "\n",
    "    'f' − floating-point\n",
    "\n",
    "    'c' − complex-floating point\n",
    "\n",
    "    'm' − timedelta\n",
    "\n",
    "    'M' − datetime\n",
    "\n",
    "    'O' − (Python) objects\n",
    "\n",
    "    'S', 'a' − (byte-)string\n",
    "\n",
    "    'U' − Unicode\n",
    "\n",
    "    'V' − raw data (void)\n"
   ]
  },
  {
   "cell_type": "code",
   "execution_count": 6,
   "metadata": {},
   "outputs": [
    {
     "name": "stdout",
     "output_type": "stream",
     "text": [
      "\n",
      "Dtype: int32\n",
      "\n",
      "Dtype: [('age', 'i1')]\n",
      "--------------------\n",
      " [(10,) (20,) (30,)]\n",
      "--------------------\n",
      " [(b'abc', 21, 50.) (b'xyz', 18, 75.)]\n"
     ]
    }
   ],
   "source": [
    "#int8, int16, int32, int64 : equivalent string 'i1', 'i2','i4', etc. \n",
    "\n",
    "print('\\nDtype:', np.dtype('i4'))\n",
    "print('\\nDtype:', np.dtype([('age',np.int8)]))\n",
    "\n",
    "\n",
    "dt = np.dtype([('age',np.int8)]) \n",
    "a = np.array([(10,),(20,),(30,)], dtype = dt) \n",
    "print('--------------------\\n',a)\n",
    "\n",
    "\n",
    "student = np.dtype([('name','S20'), ('age', 'i1'), ('marks', 'f4')])\n",
    "b = np.array([('abc', 21, 50),('xyz', 18, 75)], dtype = student)\n",
    "print('--------------------\\n',b)"
   ]
  },
  {
   "cell_type": "markdown",
   "metadata": {},
   "source": [
    "## Common Matrices"
   ]
  },
  {
   "cell_type": "code",
   "execution_count": 17,
   "metadata": {},
   "outputs": [
    {
     "name": "stdout",
     "output_type": "stream",
     "text": [
      "\n",
      "Zero:\n",
      " [[0. 0. 0.]\n",
      " [0. 0. 0.]\n",
      " [0. 0. 0.]]\n",
      "\n",
      "Ones:\n",
      " [[1. 1. 1.]\n",
      " [1. 1. 1.]\n",
      " [1. 1. 1.]]\n",
      "\n",
      "Identity:\n",
      " [[1. 0. 0.]\n",
      " [0. 1. 0.]\n",
      " [0. 0. 1.]]\n",
      "\n",
      "Constant:\n",
      " [[5 5 5]\n",
      " [5 5 5]\n",
      " [5 5 5]]\n"
     ]
    }
   ],
   "source": [
    "# Defining common matrices\n",
    "\n",
    "array_a = (3,3) # Defining Empty spaceholder matrix\n",
    "\n",
    "print('\\nZero:\\n', np.zeros(array_a))\n",
    "print('\\nOnes:\\n', np.ones(array_a))\n",
    "print('\\nIdentity:\\n', np.eye(array_a[0]))\n",
    "print('\\nConstant:\\n', np.full(array_a, 5))"
   ]
  },
  {
   "cell_type": "markdown",
   "metadata": {},
   "source": [
    "# Numpy Create"
   ]
  },
  {
   "cell_type": "code",
   "execution_count": 48,
   "metadata": {},
   "outputs": [
    {
     "name": "stdout",
     "output_type": "stream",
     "text": [
      "\n",
      "EvenlySpacedArrray:\n",
      " [ 1.  2.  3.  4.  5.  6.  7.  8.  9. 10.]\n",
      "\n",
      "EvenlySpacedArrray(in Log space):\n",
      " [   2.    4.    8.   16.   32.   64.  128.  256.  512. 1024.]\n",
      "\n",
      "EvenlySpacedArrray:\n",
      " [0.  0.5 1.  1.5 2.  2.5 3.  3.5 4.  4.5]\n"
     ]
    }
   ],
   "source": [
    "# Numpy form ranges\n",
    "\n",
    "start, end, no_of_samples = 1,10,10\n",
    "print('\\nEvenlySpacedArrray:\\n', np.linspace(start,end,no_of_samples))\n",
    "print('\\nEvenlySpacedArrray(in Log space):\\n', np.logspace(start,end,no_of_samples, base=2))\n",
    "\n",
    "start, end, step = 0,5,0.5 # step exclusive )\n",
    "print('\\nEvenlySpacedArrray:\\n', np.arange(start,end,step))\n"
   ]
  },
  {
   "cell_type": "code",
   "execution_count": 53,
   "metadata": {},
   "outputs": [
    {
     "name": "stdout",
     "output_type": "stream",
     "text": [
      "\n",
      "Drawn From Gaussian:\n",
      " [[ 0.20420798  1.40669624 -1.7379595 ]\n",
      " [ 1.04082395  0.38047197 -0.21713527]\n",
      " [ 1.1735315  -2.34360319  1.16152149]]\n",
      "\n",
      "Drawn From SND:\n",
      " [[ 0.38607805 -1.13313327  0.43309255]\n",
      " [-0.30408644  2.58529487  1.83533272]\n",
      " [ 0.44068987 -0.71925384 -0.58341459]]\n",
      "\n",
      " Random Drawn From Gaussian:\n",
      " None\n",
      "\n",
      "Drawn From SND:\n",
      " [[-0.41675785 -0.05626683 -2.1361961 ]\n",
      " [ 1.64027081 -1.79343559 -0.84174737]\n",
      " [ 0.50288142 -1.24528809 -1.05795222]]\n"
     ]
    }
   ],
   "source": [
    "s_d = 1\n",
    "array_shape = (3,3)\n",
    "\n",
    "print('\\nDrawn From Gaussian:\\n',np.random.normal(scale=s_d, size= array_shape))\n",
    "print('\\nDrawn From SND:\\n',np.random.randn(*array_shape))\n",
    "\n",
    "seed_random = 2\n",
    "\n",
    "print('\\n Random Drawn From Gaussian:\\n',np.random.seed(seed_random))\n",
    "print('\\nDrawn From SND:\\n',np.random.randn(*array_shape))"
   ]
  },
  {
   "cell_type": "code",
   "execution_count": 41,
   "metadata": {},
   "outputs": [
    {
     "name": "stdout",
     "output_type": "stream",
     "text": [
      "\n",
      "Array Type: <class 'numpy.ndarray'>\n",
      "\n",
      "Array Type: <class 'numpy.ndarray'>\n",
      "\n",
      "From Buffer: [b'H' b'e' b'l' b'l' b'o' b' ' b'W' b'o' b'r' b'l' b'd']\n",
      "\n",
      "From Iter: [0. 1. 2. 3. 4.]\n"
     ]
    }
   ],
   "source": [
    "# Numpy from existing data\n",
    "\n",
    "x = [1,2,3]\n",
    "y = (4,5,6)\n",
    "s = b'Hello World'\n",
    "it = iter(range(5))  \n",
    "\n",
    "print('\\nArray Type:', type(np.asarray(x))) \n",
    "print('\\nArray Type:', type(np.asarray(y))) \n",
    "print('\\nFrom Buffer:', np.frombuffer(s, dtype = 'S1'))\n",
    "print('\\nFrom Iter:',np.fromiter(it, dtype = float)) # use iterator to create ndarray"
   ]
  },
  {
   "cell_type": "markdown",
   "metadata": {},
   "source": [
    "# Arithmetics"
   ]
  },
  {
   "cell_type": "code",
   "execution_count": 69,
   "metadata": {},
   "outputs": [
    {
     "name": "stdout",
     "output_type": "stream",
     "text": [
      "[[0. 1. 2.]] \n",
      "\n",
      " [10 10 10]\n",
      "\n",
      "Add:\n",
      " [[10. 11. 12.]]\n",
      "\n",
      "Sub:\n",
      " [[-10.  -9.  -8.]]\n",
      "\n",
      "Mul:\n",
      " [[ 0. 10. 20.]]\n",
      "\n",
      "Div:\n",
      " [[0.  0.1 0.2]]\n",
      "\n",
      "Sum of Array b:\n",
      " 30\n"
     ]
    }
   ],
   "source": [
    "a = np.arange(3, dtype = np.float_).reshape(1,3)\n",
    "b = np.array([10,10,10])\n",
    "print(a,'\\n\\n',b)\n",
    "print('\\nAdd:\\n', a+b) # np.sum(first_array, second_array)\n",
    "print('\\nSub:\\n', a-b) # np.subtract(first_array, second_array)\n",
    "print('\\nMul:\\n', a*b) # np.multiply(first_array, second_array) - Element wise\n",
    "print('\\nDiv:\\n', a/b) # np.divide(first_array, second_array)\n",
    "print('\\nSum of Array b:\\n', b.sum())"
   ]
  },
  {
   "cell_type": "markdown",
   "metadata": {},
   "source": [
    "## Indexing and Slicing"
   ]
  },
  {
   "cell_type": "code",
   "execution_count": 96,
   "metadata": {},
   "outputs": [
    {
     "name": "stdout",
     "output_type": "stream",
     "text": [
      "\n",
      "Index 4:\n",
      " 4\n",
      "\n",
      "Sliced:\n",
      " [2 4 6]\n",
      "\n",
      "b:\n",
      " [[1 2 3]\n",
      " [3 4 5]\n",
      " [4 5 6]]\n",
      "\n",
      "Element at index [1][2]: 5\n",
      "\n",
      "b-Sliced:\n",
      " [[3 4 5]\n",
      " [4 5 6]]\n",
      "\n",
      "b-Col-2:\n",
      " [2 4 5]\n",
      "\n",
      "b-Row-2:\n",
      " [3 4 5]\n",
      "\n",
      "b-Col-2 Onwards:\n",
      " [[2 3]\n",
      " [4 5]\n",
      " [5 6]]\n"
     ]
    }
   ],
   "source": [
    "a = np.arange(10) #[0 1 2 3 4 5 6 7 8 9]\n",
    "\n",
    "print('\\nIndex 4:\\n',a[4])\n",
    "print('\\nSliced:\\n',a[2:7:2]) # or a[slice(2,7,2)]\n",
    "# print(a[2:])\n",
    "# print(a[2:5]) # exclusive ]\n",
    "\n",
    "b = np.array([[1,2,3],[3,4,5],[4,5,6]])\n",
    "\n",
    "print('\\nb:\\n',b)\n",
    "print('\\nElement at index [1][2]:', b[1, 2])\n",
    "print('\\nb-Sliced:\\n',b[1:])\n",
    "print('\\nb-Col-2:\\n',b[...,1])\n",
    "print('\\nb-Row-2:\\n',b[1,...])\n",
    "print('\\nb-Col-2 Onwards:\\n',b[...,1:])"
   ]
  },
  {
   "cell_type": "markdown",
   "metadata": {},
   "source": [
    "# Todo\n",
    "\n",
    "- [ ] Integer and Boolean indexing\n",
    "- [ ] Broadcasting\n",
    "- [ ] Iterating over array\n",
    "- [ ] Manipulation of Arrays\n",
    "- [ ] Operations and Functions\n",
    "\n",
    "[Numpy References](https://numpy.org/doc/1.19/reference/index.html)"
   ]
  },
  {
   "cell_type": "markdown",
   "metadata": {},
   "source": [
    "---"
   ]
  }
 ],
 "metadata": {
  "kernelspec": {
   "display_name": "Python 3",
   "language": "python",
   "name": "python3"
  },
  "language_info": {
   "codemirror_mode": {
    "name": "ipython",
    "version": 3
   },
   "file_extension": ".py",
   "mimetype": "text/x-python",
   "name": "python",
   "nbconvert_exporter": "python",
   "pygments_lexer": "ipython3",
   "version": "3.7.7"
  }
 },
 "nbformat": 4,
 "nbformat_minor": 4
}
