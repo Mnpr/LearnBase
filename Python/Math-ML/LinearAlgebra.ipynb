{
 "cells": [
  {
   "cell_type": "markdown",
   "metadata": {},
   "source": [
    "# Linear Algebra with SciPy"
   ]
  },
  {
   "cell_type": "code",
   "execution_count": 3,
   "metadata": {},
   "outputs": [],
   "source": [
    "import numpy as np\n",
    "import scipy.linalg as la"
   ]
  },
  {
   "cell_type": "markdown",
   "metadata": {},
   "source": [
    "## Matrix Operations and Functions\n",
    "\n",
    "*Multiplication* $A \\times A$\n",
    "\n",
    "*Arithmetic* $2I + 3A - AB$\n",
    "\n",
    "*M Power* $mpow(A,3)$ OR $A@A@A$\n",
    "\n",
    "*Transpose(.T)* $AA^T$\n",
    "\n",
    "*Determinant* $\\begin{vmatrix} 1 & 3 \\\\ -1 & 7 \\end{vmatrix}$ `scipy.linalg.det`\n",
    "\n",
    "*Inverse* $A^-1$ `scipy.linalg.inv`\n",
    "\n"
   ]
  },
  {
   "cell_type": "code",
   "execution_count": 6,
   "metadata": {},
   "outputs": [
    {
     "name": "stdout",
     "output_type": "stream",
     "text": [
      "[[ 1  3]\n",
      " [-1  7]] \n",
      "\n",
      " [[5 2]\n",
      " [1 2]]\n",
      "\n",
      "----- Matrix Multiplication ------- \n",
      "[[-2 24]\n",
      " [-8 46]]\n",
      "\n",
      "----- Arithmetic ------- \n",
      "[[-3.  1.]\n",
      " [-5. 11.]]\n",
      "\n",
      "----- Powers ------- \n",
      "[[-26 162]\n",
      " [-54 298]]\n",
      "\n",
      "----- Transpose ------- \n",
      "[[10 20]\n",
      " [20 50]]\n",
      "\n",
      "----- Determinant ------- \n",
      "10.0\n",
      "\n",
      "----- Inverse ------- \n",
      "[[ 0.7 -0.3]\n",
      " [ 0.1  0.1]]\n"
     ]
    }
   ],
   "source": [
    "A = np.array([[1,3],[-1,7]])\n",
    "B = np.array([[5,2],[1,2]])\n",
    "print(A,'\\n\\n', B)\n",
    "\n",
    "print('\\n----- Matrix Multiplication ------- ')\n",
    "print(A@A) # @ = Multiplication\n",
    "\n",
    "# Identity Matrix of size 2\n",
    "I = np.eye(2)\n",
    "\n",
    "print('\\n----- Arithmetic ------- ')\n",
    "print(2*I + 3*A - A@B)\n",
    "\n",
    "from numpy.linalg import matrix_power as mpow\n",
    "\n",
    "print('\\n----- Powers ------- ')\n",
    "print(mpow(A, 3)) # == print(A@A@A)\n",
    "\n",
    "print('\\n----- Transpose ------- ')\n",
    "print(A@A.T)\n",
    "\n",
    "print('\\n----- Determinant ------- ')\n",
    "print(la.det(A))\n",
    "\n",
    "print('\\n----- Inverse ------- ')\n",
    "print(la.inv(A))"
   ]
  },
  {
   "cell_type": "markdown",
   "metadata": {},
   "source": [
    "### Dot vs Inner"
   ]
  },
  {
   "cell_type": "code",
   "execution_count": 10,
   "metadata": {},
   "outputs": [
    {
     "name": "stdout",
     "output_type": "stream",
     "text": [
      "[[ 1  3]\n",
      " [-1  7]] \n",
      "\n",
      " [[5 2]\n",
      " [1 2]]\n",
      "\n",
      "----- A dot B ------- \n",
      "[[ 8  8]\n",
      " [ 2 12]]\n",
      "\n",
      "----- A inner B ------- \n",
      "[[11  7]\n",
      " [ 9 13]]\n"
     ]
    }
   ],
   "source": [
    "print(A,'\\n\\n', B)\n",
    "print('\\n----- A dot B ------- ')\n",
    "print(np.dot(A,B))\n",
    "\n",
    "print('\\n----- A inner B ------- ')\n",
    "print(np.inner(A,B))"
   ]
  },
  {
   "cell_type": "markdown",
   "metadata": {},
   "source": [
    "---"
   ]
  }
 ],
 "metadata": {
  "kernelspec": {
   "display_name": "Python 3",
   "language": "python",
   "name": "python3"
  },
  "language_info": {
   "codemirror_mode": {
    "name": "ipython",
    "version": 3
   },
   "file_extension": ".py",
   "mimetype": "text/x-python",
   "name": "python",
   "nbconvert_exporter": "python",
   "pygments_lexer": "ipython3",
   "version": "3.7.7"
  }
 },
 "nbformat": 4,
 "nbformat_minor": 4
}
